{
 "cells": [
  {
   "cell_type": "code",
   "execution_count": 32,
   "metadata": {},
   "outputs": [
    {
     "name": "stdout",
     "output_type": "stream",
     "text": [
      " * Serving Flask app \"__main__\" (lazy loading)\n",
      " * Environment: production\n",
      "   WARNING: This is a development server. Do not use it in a production deployment.\n",
      "   Use a production WSGI server instead.\n",
      " * Debug mode: off\n"
     ]
    },
    {
     "name": "stderr",
     "output_type": "stream",
     "text": [
      " * Running on http://127.0.0.1:1236/ (Press CTRL+C to quit)\n",
      "127.0.0.1 - - [03/Aug/2020 14:53:02] \"\u001b[37mGET / HTTP/1.1\u001b[0m\" 200 -\n",
      "127.0.0.1 - - [03/Aug/2020 14:53:02] \"\u001b[33mGET /static/css2/style.css HTTP/1.1\u001b[0m\" 404 -\n",
      "127.0.0.1 - - [03/Aug/2020 14:53:02] \"\u001b[33mGET /.js/materialize.js HTTP/1.1\u001b[0m\" 404 -\n",
      "127.0.0.1 - - [03/Aug/2020 14:53:02] \"\u001b[33mGET /js/init.js HTTP/1.1\u001b[0m\" 404 -\n",
      "127.0.0.1 - - [03/Aug/2020 14:53:02] \"\u001b[33mGET /.js/materialize.js HTTP/1.1\u001b[0m\" 404 -\n",
      "127.0.0.1 - - [03/Aug/2020 14:53:02] \"\u001b[33mGET /js/init.js HTTP/1.1\u001b[0m\" 404 -\n",
      "127.0.0.1 - - [03/Aug/2020 14:53:22] \"\u001b[37mPOST /predict HTTP/1.1\u001b[0m\" 200 -\n",
      "127.0.0.1 - - [03/Aug/2020 14:53:22] \"\u001b[33mGET /.js/materialize.js HTTP/1.1\u001b[0m\" 404 -\n",
      "127.0.0.1 - - [03/Aug/2020 14:53:22] \"\u001b[33mGET /static/css2/style.css HTTP/1.1\u001b[0m\" 404 -\n",
      "127.0.0.1 - - [03/Aug/2020 14:53:22] \"\u001b[33mGET /js/init.js HTTP/1.1\u001b[0m\" 404 -\n",
      "127.0.0.1 - - [03/Aug/2020 14:53:22] \"\u001b[33mGET /.js/materialize.js HTTP/1.1\u001b[0m\" 404 -\n",
      "127.0.0.1 - - [03/Aug/2020 14:53:22] \"\u001b[33mGET /js/init.js HTTP/1.1\u001b[0m\" 404 -\n"
     ]
    },
    {
     "name": "stdout",
     "output_type": "stream",
     "text": [
      "['111', '80', '5', '2', '2', '8.41', '0']\n",
      "[['111' '80' '5' '2' '2' '8.41' '0']]\n"
     ]
    },
    {
     "name": "stderr",
     "output_type": "stream",
     "text": [
      "[2020-08-03 14:53:42,976] ERROR in app: Exception on /predict [POST]\n",
      "Traceback (most recent call last):\n",
      "  File \"C:\\Users\\Apurv_SJ\\anaconda3\\lib\\site-packages\\flask\\app.py\", line 2446, in wsgi_app\n",
      "    response = self.full_dispatch_request()\n",
      "  File \"C:\\Users\\Apurv_SJ\\anaconda3\\lib\\site-packages\\flask\\app.py\", line 1951, in full_dispatch_request\n",
      "    rv = self.handle_user_exception(e)\n",
      "  File \"C:\\Users\\Apurv_SJ\\anaconda3\\lib\\site-packages\\flask\\app.py\", line 1820, in handle_user_exception\n",
      "    reraise(exc_type, exc_value, tb)\n",
      "  File \"C:\\Users\\Apurv_SJ\\anaconda3\\lib\\site-packages\\flask\\_compat.py\", line 39, in reraise\n",
      "    raise value\n",
      "  File \"C:\\Users\\Apurv_SJ\\anaconda3\\lib\\site-packages\\flask\\app.py\", line 1949, in full_dispatch_request\n",
      "    rv = self.dispatch_request()\n",
      "  File \"C:\\Users\\Apurv_SJ\\anaconda3\\lib\\site-packages\\flask\\app.py\", line 1935, in dispatch_request\n",
      "    return self.view_functions[rule.endpoint](**req.view_args)\n",
      "  File \"<ipython-input-32-bbda995d9fc1>\", line 18, in predict\n",
      "    prediction=model.predict(final)\n",
      "  File \"C:\\Users\\Apurv_SJ\\anaconda3\\lib\\site-packages\\sklearn\\ensemble\\_forest.py\", line 766, in predict\n",
      "    X = self._validate_X_predict(X)\n",
      "  File \"C:\\Users\\Apurv_SJ\\anaconda3\\lib\\site-packages\\sklearn\\ensemble\\_forest.py\", line 412, in _validate_X_predict\n",
      "    return self.estimators_[0]._validate_X_predict(X, check_input=True)\n",
      "  File \"C:\\Users\\Apurv_SJ\\anaconda3\\lib\\site-packages\\sklearn\\tree\\_classes.py\", line 380, in _validate_X_predict\n",
      "    X = check_array(X, dtype=DTYPE, accept_sparse=\"csr\")\n",
      "  File \"C:\\Users\\Apurv_SJ\\anaconda3\\lib\\site-packages\\sklearn\\utils\\validation.py\", line 531, in check_array\n",
      "    array = np.asarray(array, order=order, dtype=dtype)\n",
      "  File \"C:\\Users\\Apurv_SJ\\anaconda3\\lib\\site-packages\\numpy\\core\\_asarray.py\", line 85, in asarray\n",
      "    return array(a, dtype, copy=False, order=order)\n",
      "ValueError: could not convert string to float: \n",
      "127.0.0.1 - - [03/Aug/2020 14:53:43] \"\u001b[35m\u001b[1mPOST /predict HTTP/1.1\u001b[0m\" 500 -\n"
     ]
    },
    {
     "name": "stdout",
     "output_type": "stream",
     "text": [
      "['', '', '', '', '', '', '']\n",
      "[['' '' '' '' '' '' '']]\n"
     ]
    },
    {
     "name": "stderr",
     "output_type": "stream",
     "text": [
      "127.0.0.1 - - [03/Aug/2020 14:53:45] \"\u001b[33mGET /static/css2/style.css HTTP/1.1\u001b[0m\" 404 -\n"
     ]
    }
   ],
   "source": [
    "from flask import Flask,request, url_for, redirect, render_template\n",
    "import pickle\n",
    "import numpy as np\n",
    "\n",
    "app = Flask(__name__)\n",
    "model=pickle.load(open('model.pkl','rb'))\n",
    "@app.route('/')\n",
    "def hello_world():\n",
    "    return render_template(\"forest_fire.html\")\n",
    "\n",
    "@app.route('/predict',methods=['POST','GET'])\n",
    "def predict():\n",
    "    int_features=[x for x in request.form.values()]\n",
    "    fina=np.array(int_features)\n",
    "    final=fina.reshape(-1,7)\n",
    "    print(int_features)\n",
    "    print(final)\n",
    "    prediction=model.predict(final)\n",
    "    output=str(prediction[0])\n",
    "    #output='{0:.{1}f}'.format(prediction[0][1], 2)\n",
    "\n",
    "    if output>str(0.7):\n",
    "        return render_template('forest_fire.html',pred='Congratulations !! Your Chances of Getting the university of your Choice are High.\\nProbability of admission is {}'.format(output),bhai=\"Well done\")\n",
    "    else:\n",
    "        return render_template('forest_fire.html',pred='Your Chances of getting the University of your Choice is little low but Dont Worry this prediction are Just based on previous datasets .\\n Probability of admission  is {}'.format(output),bhai=\"Check another University\")\n",
    "\n",
    "\n",
    "if __name__ == '__main__':\n",
    "    app.run(debug=False,port=1236)"
   ]
  },
  {
   "cell_type": "code",
   "execution_count": null,
   "metadata": {},
   "outputs": [],
   "source": []
  }
 ],
 "metadata": {
  "kernelspec": {
   "display_name": "Python 3",
   "language": "python",
   "name": "python3"
  },
  "language_info": {
   "codemirror_mode": {
    "name": "ipython",
    "version": 3
   },
   "file_extension": ".py",
   "mimetype": "text/x-python",
   "name": "python",
   "nbconvert_exporter": "python",
   "pygments_lexer": "ipython3",
   "version": "3.7.6"
  }
 },
 "nbformat": 4,
 "nbformat_minor": 4
}
